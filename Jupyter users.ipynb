{
 "cells": [
  {
   "cell_type": "markdown",
   "metadata": {
    "id": "79yQwVVMniJ7"
   },
   "source": [
    "# Data Extraction\n"
   ]
  },
  {
   "cell_type": "code",
   "execution_count": 6,
   "metadata": {},
   "outputs": [
    {
     "name": "stdout",
     "output_type": "stream",
     "text": [
      "Collecting pymysql\n",
      "  Downloading PyMySQL-1.1.1-py3-none-any.whl.metadata (4.4 kB)\n",
      "Downloading PyMySQL-1.1.1-py3-none-any.whl (44 kB)\n",
      "Installing collected packages: pymysql\n",
      "Successfully installed pymysql-1.1.1\n",
      "Requirement already satisfied: sqlalchemy in c:\\users\\shreetech\\anaconda3\\lib\\site-packages (2.0.34)\n",
      "Requirement already satisfied: typing-extensions>=4.6.0 in c:\\users\\shreetech\\anaconda3\\lib\\site-packages (from sqlalchemy) (4.11.0)\n",
      "Requirement already satisfied: greenlet!=0.4.17 in c:\\users\\shreetech\\anaconda3\\lib\\site-packages (from sqlalchemy) (3.0.1)\n"
     ]
    }
   ],
   "source": [
    "!pip install pymysql\n",
    "!pip install sqlalchemy"
   ]
  },
  {
   "cell_type": "code",
   "execution_count": 7,
   "metadata": {
    "id": "Q8v2jh2UngZl"
   },
   "outputs": [],
   "source": [
    "# Imorting all necessary libraries\n",
    "import pandas as pd\n",
    "import pymysql\n",
    "import sqlalchemy\n",
    "from sqlalchemy import create_engine"
   ]
  },
  {
   "cell_type": "markdown",
   "metadata": {
    "id": "71fF4fTlpsUC"
   },
   "source": [
    "**Creating Connection between SQL & Python**"
   ]
  },
  {
   "cell_type": "code",
   "execution_count": 8,
   "metadata": {
    "id": "99cAk6GMoc90"
   },
   "outputs": [],
   "source": [
    "# MySQL credentials\n",
    "username = \"root\"               # MySQL username\n",
    "password = \"8898\"               # MySQL password\n",
    "host = \"localhost\"              # Her my MySQL sever running on localhost\n",
    "port = 3306                     # MySQL default port\n",
    "database = \"Customers_Project\"  # Database name"
   ]
  },
  {
   "cell_type": "code",
   "execution_count": 9,
   "metadata": {
    "id": "rligV5FupC3U"
   },
   "outputs": [],
   "source": [
    "engine = create_engine(f\"mysql+pymysql://{username}:{password}@{host}:{port}/{database}\")"
   ]
  },
  {
   "cell_type": "code",
   "execution_count": 10,
   "metadata": {
    "id": "ZFVqfNtQpIb-"
   },
   "outputs": [
    {
     "name": "stdout",
     "output_type": "stream",
     "text": [
      "✅ Connection successful. Tables in DB:\n",
      "  Tables_in_customers_project\n",
      "0           customer_purchase\n",
      "1                   customers\n",
      "2                    products\n",
      "3                transactions\n"
     ]
    }
   ],
   "source": [
    "# Test connection - show all tables\n",
    "try:\n",
    "    df = pd.read_sql(\"SHOW TABLES;\", con=engine)\n",
    "    print(\"✅ Connection successful. Tables in DB:\")\n",
    "    print(df)\n",
    "except Exception as e:\n",
    "    print(\"❌ Connection failed:\")\n",
    "    print(e)"
   ]
  },
  {
   "cell_type": "markdown",
   "metadata": {
    "id": "yoo5S7oqoiA2"
   },
   "source": [
    "**Python script to extract data from the SQL database**"
   ]
  },
  {
   "cell_type": "code",
   "execution_count": 11,
   "metadata": {
    "id": "QKkqPPUMpQd9"
   },
   "outputs": [
    {
     "name": "stdout",
     "output_type": "stream",
     "text": [
      "   CustomerKey  CustomerID        CustomerName                      Country\n",
      "0            1         887    Kenneth Martinez                     Barbados\n",
      "1            2         560     Joseph Anderson     Northern Mariana Islands\n",
      "2            3         701    Vincent Reynolds       British Virgin Islands\n",
      "3            4         630  Christopher Morris                    Guatemala\n",
      "4            5         631          Sarah King  Falkland Islands (Malvinas)\n",
      "   ProductKey  ProductID      ProductName  ProductCategory\n",
      "0           1        240           Router      Electronics\n",
      "1           2        299           Camera      Electronics\n",
      "2           3        207  Electric Kettle  Home Appliances\n",
      "3           4        290       Smartwatch      Electronics\n",
      "4           5        281          Toaster  Home Appliances\n",
      "   TransactionID  CustomerKey  ProductKey  PurchaseQuantity  PurchasePrice  \\\n",
      "0              1            1           1                 5         689.99   \n",
      "1              2            2           2                 4          79.27   \n",
      "2              3            3           3                 3         666.75   \n",
      "3              4            4           4                 5         316.19   \n",
      "4              5            5           5                 4         700.24   \n",
      "\n",
      "  PurchaseDate  \n",
      "0   2024-03-01  \n",
      "1   2024-01-26  \n",
      "2   2024-05-13  \n",
      "3   2023-09-21  \n",
      "4   2024-01-25  \n"
     ]
    }
   ],
   "source": [
    "# Loading Pandas DataFrame from SQL Tables\n",
    "customers = pd.read_sql_table(\"customers\", engine)\n",
    "products = pd.read_sql_table(\"products\", engine)\n",
    "transactions = pd.read_sql_table(\"transactions\", engine)\n",
    "\n",
    "print(customers.head())\n",
    "print(products.head())\n",
    "print(transactions.head())"
   ]
  },
  {
   "cell_type": "markdown",
   "metadata": {
    "id": "noXZIyFsqTrv"
   },
   "source": [
    "**Merging Tables in a Dataframe**"
   ]
  },
  {
   "cell_type": "code",
   "execution_count": 12,
   "metadata": {
    "id": "d5n4YewqpQaY"
   },
   "outputs": [
    {
     "name": "stdout",
     "output_type": "stream",
     "text": [
      "   TransactionID  CustomerKey  ProductKey  PurchaseQuantity  PurchasePrice  \\\n",
      "0              1            1           1                 5         689.99   \n",
      "1              2            2           2                 4          79.27   \n",
      "2              3            3           3                 3         666.75   \n",
      "3              4            4           4                 5         316.19   \n",
      "4              5            5           5                 4         700.24   \n",
      "\n",
      "  PurchaseDate  CustomerID        CustomerName                      Country  \\\n",
      "0   2024-03-01         887    Kenneth Martinez                     Barbados   \n",
      "1   2024-01-26         560     Joseph Anderson     Northern Mariana Islands   \n",
      "2   2024-05-13         701    Vincent Reynolds       British Virgin Islands   \n",
      "3   2023-09-21         630  Christopher Morris                    Guatemala   \n",
      "4   2024-01-25         631          Sarah King  Falkland Islands (Malvinas)   \n",
      "\n",
      "   ProductID      ProductName  ProductCategory  \n",
      "0        240           Router      Electronics  \n",
      "1        299           Camera      Electronics  \n",
      "2        207  Electric Kettle  Home Appliances  \n",
      "3        290       Smartwatch      Electronics  \n",
      "4        281          Toaster  Home Appliances  \n"
     ]
    }
   ],
   "source": [
    "# Merge Transactions with Customers\n",
    "merged_df = pd.merge(transactions, customers, on ='CustomerKey', how='left')\n",
    "\n",
    "# Transactions + Products join (ProductKey ke through)\n",
    "merged_df = pd.merge(merged_df, products, on=\"ProductKey\", how=\"left\")\n",
    "\n",
    "#  Cheking Output\n",
    "print(merged_df.head())"
   ]
  },
  {
   "cell_type": "markdown",
   "metadata": {
    "id": "d9qyLezhrBWC"
   },
   "source": [
    "# Data Analysis\n",
    "**1. Calculate total purchases, total revenue, and average purchase value.**"
   ]
  },
  {
   "cell_type": "code",
   "execution_count": 13,
   "metadata": {
    "id": "9cANCB43pQQy"
   },
   "outputs": [
    {
     "name": "stdout",
     "output_type": "stream",
     "text": [
      "Total Purchases: 3042\n",
      "Total Revenue: 1481506.85\n",
      "Average Purchase Value: 487.01737343852733\n"
     ]
    }
   ],
   "source": [
    "# 1. Total Purchases (sum of quantity column)\n",
    "total_purchases = merged_df['PurchaseQuantity'].sum()\n",
    "print(\"Total Purchases:\", total_purchases)\n",
    "\n",
    "# 2. Total Revenue (Quantity * Price, then sum)\n",
    "merged_df['Revenue'] = merged_df['PurchaseQuantity'] * merged_df['PurchasePrice']\n",
    "total_revenue = merged_df['Revenue'].sum()\n",
    "print(\"Total Revenue:\", total_revenue)\n",
    "\n",
    "# 3. Average Purchase Value (Total Revenue / Total Purchases)\n",
    "average_purchase_value = total_revenue / total_purchases\n",
    "print(\"Average Purchase Value:\", average_purchase_value)"
   ]
  },
  {
   "cell_type": "markdown",
   "metadata": {
    "id": "by4TZn7EsViX"
   },
   "source": [
    "**2. Identify top customers and their purchasing behavior.**"
   ]
  },
  {
   "cell_type": "code",
   "execution_count": 14,
   "metadata": {
    "id": "MEpOd_IvpQNS"
   },
   "outputs": [
    {
     "name": "stdout",
     "output_type": "stream",
     "text": [
      "Top 5 Customers by Revenue:\n",
      "             TotalRevenue  TotalPurchases\n",
      "CustomerKey                              \n",
      "794               4997.20               5\n",
      "316               4990.85               5\n",
      "455               4967.75               5\n",
      "485               4952.10               5\n",
      "86                4950.65               5\n"
     ]
    }
   ],
   "source": [
    "# Group data by customer and calculate Total revenue & Total purchases\n",
    "customer_stats = (\n",
    "    merged_df.groupby('CustomerKey')\n",
    "    .agg(\n",
    "        TotalRevenue=('Revenue', 'sum'),\n",
    "        TotalPurchases=('PurchaseQuantity', 'sum')\n",
    "    )\n",
    "    .sort_values(by='TotalRevenue', ascending=False)\n",
    ")\n",
    "\n",
    "print(\"Top 5 Customers by Revenue:\")\n",
    "print(customer_stats.head(5))"
   ]
  },
  {
   "cell_type": "code",
   "execution_count": 16,
   "metadata": {
    "id": "FrchNNcipQJ1"
   },
   "outputs": [
    {
     "name": "stdout",
     "output_type": "stream",
     "text": [
      "Customer with Avg Purchase Value:\n",
      "             TotalRevenue  TotalPurchases  AvgPurchaseValue\n",
      "CustomerKey                                                \n",
      "266               1999.96               2            999.98\n",
      "794               4997.20               5            999.44\n",
      "316               4990.85               5            998.17\n",
      "137               2992.35               3            997.45\n",
      "363               3984.04               4            996.01\n"
     ]
    }
   ],
   "source": [
    "# Avg Purchase Value for checking spending pattern\n",
    "customer_stats['AvgPurchaseValue'] = (\n",
    "    customer_stats['TotalRevenue'] / customer_stats['TotalPurchases']\n",
    ")\n",
    "customer_stats = customer_stats.sort_values(by='AvgPurchaseValue', ascending=False)\n",
    "\n",
    "print(\"Customer with Avg Purchase Value:\")\n",
    "print(customer_stats.head())"
   ]
  },
  {
   "cell_type": "markdown",
   "metadata": {
    "id": "VryZg1vnswlL"
   },
   "source": [
    "**3. Analyze purchase trends over time (monthly, quarterly, yearly).**"
   ]
  },
  {
   "cell_type": "code",
   "execution_count": 17,
   "metadata": {
    "id": "1F3lQB9LtBCn"
   },
   "outputs": [
    {
     "name": "stdout",
     "output_type": "stream",
     "text": [
      "datetime64[ns]\n"
     ]
    }
   ],
   "source": [
    "# Make sure PurchaseDate is datetime\n",
    "print(merged_df['PurchaseDate'].dtype)"
   ]
  },
  {
   "cell_type": "code",
   "execution_count": 18,
   "metadata": {
    "id": "oKvrIrEvtZ7F"
   },
   "outputs": [],
   "source": [
    "# Extract Year, Month, Quarter\n",
    "merged_df['Year'] = merged_df['PurchaseDate'].dt.year\n",
    "merged_df['Month'] = merged_df['PurchaseDate'].dt.month\n",
    "merged_df['Quarter'] = merged_df['PurchaseDate'].dt.to_period('Q')"
   ]
  },
  {
   "cell_type": "code",
   "execution_count": 19,
   "metadata": {
    "id": "EagaPmSJteUj"
   },
   "outputs": [
    {
     "name": "stdout",
     "output_type": "stream",
     "text": [
      "Yearly Trends:\n",
      "    Year  TotalQuantity  TotalRevenue\n",
      "0  2023           1647     790514.96\n",
      "1  2024           1395     690991.89\n"
     ]
    }
   ],
   "source": [
    "# Yearly Trends\n",
    "yearly_trends = (\n",
    "    merged_df.groupby('Year')\n",
    "    .agg(TotalQuantity=('PurchaseQuantity', 'sum'), TotalRevenue=('Revenue', 'sum')).reset_index()\n",
    ")\n",
    "\n",
    "print(\"Yearly Trends:\\n\", yearly_trends)"
   ]
  },
  {
   "cell_type": "code",
   "execution_count": 20,
   "metadata": {
    "id": "J_sPgF-mtsfa"
   },
   "outputs": [
    {
     "name": "stdout",
     "output_type": "stream",
     "text": [
      "Monthly Trends:\n",
      "     Year  Month  TotalQuantity  TotalRevenue\n",
      "0   2023      6             27       8258.62\n",
      "1   2023      7            269     140528.32\n",
      "2   2023      8            233      95945.72\n",
      "3   2023      9            287     143595.40\n",
      "4   2023     10            243     124279.18\n",
      "5   2023     11            293     122373.42\n",
      "6   2023     12            295     155534.30\n",
      "7   2024      1            290     134016.35\n",
      "8   2024      2            272     128590.54\n",
      "9   2024      3            203     111947.28\n",
      "10  2024      4            195     102830.12\n",
      "11  2024      5            268     133782.95\n",
      "12  2024      6            167      79824.65\n"
     ]
    }
   ],
   "source": [
    "# Monthly Trends\n",
    "monthly_trends = (\n",
    "    merged_df.groupby(['Year', 'Month'])\n",
    "    .agg(TotalQuantity=('PurchaseQuantity', 'sum'), TotalRevenue=('Revenue', 'sum')).reset_index()\n",
    ")\n",
    "\n",
    "print(\"Monthly Trends:\\n\", monthly_trends)"
   ]
  },
  {
   "cell_type": "code",
   "execution_count": 21,
   "metadata": {
    "id": "fM7SYnHzuKU-"
   },
   "outputs": [
    {
     "name": "stdout",
     "output_type": "stream",
     "text": [
      "Quarterly Trends:\n",
      "   Quarter  TotalQuantity  TotalRevenue\n",
      "0  2023Q2             27       8258.62\n",
      "1  2023Q3            789     380069.44\n",
      "2  2023Q4            831     402186.90\n",
      "3  2024Q1            765     374554.17\n",
      "4  2024Q2            630     316437.72\n"
     ]
    }
   ],
   "source": [
    "# Quarterly Trends\n",
    "quarterly_trends = (\n",
    "    merged_df.groupby('Quarter')\n",
    "    .agg(TotalQuantity=('PurchaseQuantity', 'sum'), TotalRevenue=('Revenue', 'sum')).reset_index()\n",
    ")\n",
    "\n",
    "print(\"Quarterly Trends:\\n\", quarterly_trends)"
   ]
  },
  {
   "cell_type": "markdown",
   "metadata": {
    "id": "O3rEg0FKs2Gy"
   },
   "source": [
    "**4. Identify the top-performing product categories.**"
   ]
  },
  {
   "cell_type": "code",
   "execution_count": 22,
   "metadata": {
    "id": "ACzQMzsdudI1"
   },
   "outputs": [
    {
     "name": "stdout",
     "output_type": "stream",
     "text": [
      "\n",
      "Top Performing Product Categories:\n",
      "    ProductCategory  TotalRevenue  TotalPurchases\n",
      "0  Home Appliances     745538.64            1563\n",
      "1      Electronics     735968.21            1479\n"
     ]
    }
   ],
   "source": [
    "# Group by ProductCategory and calculate total revenue & quantity\n",
    "top_categories = merged_df.groupby('ProductCategory').agg(\n",
    "    TotalRevenue=('Revenue', 'sum'),\n",
    "    TotalPurchases=('PurchaseQuantity', 'sum')\n",
    ").sort_values(by='TotalRevenue', ascending=False).reset_index()\n",
    "\n",
    "print(\"\\nTop Performing Product Categories:\\n\", top_categories)"
   ]
  },
  {
   "cell_type": "markdown",
   "metadata": {
    "id": "HjA2iCICs7l6"
   },
   "source": [
    "**5. Generate a summary report with key insights.**"
   ]
  },
  {
   "cell_type": "markdown",
   "metadata": {
    "id": "dXDuxof7uzfw"
   },
   "source": [
    "# Customer Purchase Behavior Summary Report\n",
    "**Total Purchases: 3,042       \n",
    "Total Revenue: Rs. 1,481,506.85         \n",
    "Average Purchase Value: ₹487.02**      \n",
    "\n",
    "**Top 5 Customers by Revenue:**      \n",
    "Customers 794, 316, 455, 485, 86 — each with around ₹4,950 to ₹5,000 revenue and 5 purchases each.      \n",
    "**Customers with Highest Average Purchase Value:**     \n",
    "Customers 266, 794, 316, 137, 363 — with average purchase values close to ₹1,000.   \n",
    "\n",
    "**Yearly Sales Trends:**\n",
    "* 2023: 1,647 units sold, revenue ₹790,514.96\n",
    "\n",
    "* 2024: 1,395 units sold, revenue ₹690,991.89\n",
    "\n",
    "**Quarterly Sales Trends:**      \n",
    "* Highest revenue in Q3 and Q4 2023 (~₹380,000 and ₹402,000 respectively)\n",
    "\n",
    "* Moderate sales continuing in early 2024\n",
    "\n",
    "**Monthly Sales Trends (Sample):**\n",
    "* June 2023: ₹8,258.62 from 27 purchases\n",
    "\n",
    "* July 2023: ₹140,528.32 from 269 purchases\n",
    "\n",
    "* August 2023: ₹95,945.72 from 233 purchases\n",
    "\n",
    "**Top Performing Product Categories:**\n",
    "* Home Appliances: ₹745,538.64 revenue from 1,563 purchases\n",
    "\n",
    "* Electronics: ₹735,968.21 revenue from 1,479 purchases\n",
    "\n",
    "**Insights:**\n",
    "* The majority of revenue comes from Home Appliances and Electronics.\n",
    "\n",
    "* Top customers are consistent in purchases and contribute significantly to revenue.\n",
    "\n",
    "* Q3 and Q4 are peak sales quarters, possibly due to seasonal factors.\n",
    "\n",
    "* Focus marketing efforts on these product categories and peak quarters for maximum impact.\n",
    "\n"
   ]
  },
  {
   "cell_type": "code",
   "execution_count": null,
   "metadata": {
    "id": "L1_otDQkyxaf"
   },
   "outputs": [],
   "source": []
  }
 ],
 "metadata": {
  "colab": {
   "provenance": []
  },
  "kernelspec": {
   "display_name": "Python 3 (ipykernel)",
   "language": "python",
   "name": "python3"
  },
  "language_info": {
   "codemirror_mode": {
    "name": "ipython",
    "version": 3
   },
   "file_extension": ".py",
   "mimetype": "text/x-python",
   "name": "python",
   "nbconvert_exporter": "python",
   "pygments_lexer": "ipython3",
   "version": "3.12.7"
  }
 },
 "nbformat": 4,
 "nbformat_minor": 4
}
